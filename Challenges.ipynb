{
  "nbformat": 4,
  "nbformat_minor": 0,
  "metadata": {
    "colab": {
      "name": "Challenges.ipynb",
      "provenance": [],
      "collapsed_sections": []
    },
    "kernelspec": {
      "name": "python3",
      "display_name": "Python 3"
    }
  },
  "cells": [
    {
      "cell_type": "code",
      "metadata": {
        "id": "ZTiprRfMRsLV",
        "outputId": "73fef7fa-48fd-4a6b-c88a-92174d15c517",
        "colab": {
          "base_uri": "https://localhost:8080/",
          "height": 102
        }
      },
      "source": [
        "def create_square(length):\n",
        "  if type(length) != int:\n",
        "    return \"\"\n",
        "  space = max(0, length-2)\n",
        "  out = \"\"\n",
        "  out += '#'*length\n",
        "  if length > 1:\n",
        "    out += '\\n' + ('#' + ' '*space + '#' + '\\n') * space\n",
        "    out += '#'*length\n",
        "  return out if length > 0 else \"\"\n",
        "\n",
        "print(create_square(5))"
      ],
      "execution_count": 30,
      "outputs": [
        {
          "output_type": "stream",
          "text": [
            "#####\n",
            "#   #\n",
            "#   #\n",
            "#   #\n",
            "#####\n"
          ],
          "name": "stdout"
        }
      ]
    },
    {
      "cell_type": "code",
      "metadata": {
        "id": "RRuHSX8eWgKA",
        "outputId": "1f43f3f2-10d8-4a2b-8a32-f9e45196a0e6",
        "colab": {
          "base_uri": "https://localhost:8080/",
          "height": 35
        }
      },
      "source": [
        "number_string_ones = {0: 'zero', 1: 'one', 2: 'two', 3: 'three', 4: 'four', \n",
        "                      5: 'five', 6: 'six', 7: 'seven', 8: 'eight', 9: 'nine'}\n",
        "number_string_tens = {0: '', 1: '', 2: 'twenty', 3: 'thirty', 4: 'fourty', \n",
        "                      5: 'fifty', 6: 'sixty', 7: 'seventy', 8: 'eighty', 9: 'ninety'}\n",
        "number_string_teens = {10: 'ten', 11: 'eleven', 12: 'twelve', 13: 'thirteen', 14: 'fourteen', \n",
        "                      15: 'fifteen', 16: 'sixteen', 17: 'seventeen', 18: 'eighteen', 19: 'nineteen'}\n",
        "\n",
        "def num_to_eng(n):\n",
        "  # Described to be between 0 - 999\n",
        "  out_string = \"\"\n",
        "  end = \"\"\n",
        "  for i, num in enumerate(str(n)[::-1]):\n",
        "    if i == 0:\n",
        "      out_string += number_string_ones[int(num)]\n",
        "    if i == 1:\n",
        "      if int(num) == 0:\n",
        "        continue\n",
        "      if int(num) == 1:\n",
        "        out_string = number_string_teens[int(num+prev)]\n",
        "      else:\n",
        "        out_string = number_string_tens[int(num)] + \" \" + out_string\n",
        "    if i == 2:\n",
        "      out_string = number_string_ones[int(num)] + \" hundred \" + out_string\n",
        "    prev = num\n",
        "  return out_string\n",
        "\n",
        "num_to_eng(106)"
      ],
      "execution_count": null,
      "outputs": [
        {
          "output_type": "execute_result",
          "data": {
            "application/vnd.google.colaboratory.intrinsic+json": {
              "type": "string"
            },
            "text/plain": [
              "'one hundred six'"
            ]
          },
          "metadata": {
            "tags": []
          },
          "execution_count": 71
        }
      ]
    },
    {
      "cell_type": "code",
      "metadata": {
        "id": "q4D3ITCGGp3X",
        "outputId": "0e189872-022b-4c61-aec1-ac66911a49be",
        "colab": {
          "base_uri": "https://localhost:8080/",
          "height": 102
        }
      },
      "source": [
        "import numpy as np\n",
        "def num_grid(lst):\n",
        "  original_grid = np.pad(np.array(lst), (1, 1), mode=\"constant\")\n",
        "  fresh_grid = np.zeros(shape=original_grid.shape, dtype=np.int)\n",
        "  add_matrix = np.array([[1, 1, 1], [1, -99, 1], [1, 1, 1]])\n",
        "  positions = np.argwhere(original_grid == \"#\")\n",
        "  for row, col in positions-1: # -1 since we add from upper left corner, and not the middle where # is\n",
        "    fresh_grid[row:row+add_matrix.shape[0], col:col+add_matrix.shape[1]] += add_matrix\n",
        "  fresh_grid = np.where(fresh_grid<0, '#', fresh_grid) # replaces negative values with #\n",
        "  return fresh_grid[1:-1, 1:-1].tolist()\n",
        "\n",
        "num_grid([\n",
        "  [\"-\", \"#\", \"#\", \"#\", \"-\"],\n",
        "  [\"#\", \"-\", \"#\", \"-\", \"#\"],\n",
        "  [\"#\", \"#\", \"-\", \"#\", \"#\"],\n",
        "  [\"#\", \"-\", \"#\", \"-\", \"#\"],\n",
        "  [\"-\", \"#\", \"#\", \"#\", \"-\"]\n",
        "])"
      ],
      "execution_count": null,
      "outputs": [
        {
          "output_type": "execute_result",
          "data": {
            "text/plain": [
              "[['2', '#', '#', '#', '2'],\n",
              " ['#', '6', '#', '6', '#'],\n",
              " ['#', '#', '4', '#', '#'],\n",
              " ['#', '6', '#', '6', '#'],\n",
              " ['2', '#', '#', '#', '2']]"
            ]
          },
          "metadata": {
            "tags": []
          },
          "execution_count": 102
        }
      ]
    },
    {
      "cell_type": "code",
      "metadata": {
        "id": "p4S5SRqLEl8Y",
        "outputId": "688ce3d0-2410-4edc-f450-cde6b6475f44",
        "colab": {
          "base_uri": "https://localhost:8080/",
          "height": 34
        }
      },
      "source": [
        "def count_vowels(txt):\n",
        "  vowel_count = 0\n",
        "  for ch in ['a', 'e', 'i', 'o', 'u']:\n",
        "    if ch in txt.lower():\n",
        "      vowel_count += txt.lower().count(ch)\n",
        "  return vowel_count\n",
        "\n",
        "def count_vowels(txt):\n",
        "  return sum([1 for x in txt.lower() if x in 'aeiou'])\n",
        "\n",
        "count_vowels(\"Amity\")"
      ],
      "execution_count": null,
      "outputs": [
        {
          "output_type": "execute_result",
          "data": {
            "text/plain": [
              "2"
            ]
          },
          "metadata": {
            "tags": []
          },
          "execution_count": 28
        }
      ]
    },
    {
      "cell_type": "code",
      "metadata": {
        "id": "nRcdgtxt-o_J",
        "outputId": "957b98b7-cc7e-421f-de22-2cdd65a5abd1",
        "colab": {
          "base_uri": "https://localhost:8080/",
          "height": 34
        }
      },
      "source": [
        "from datetime import date\n",
        "def has_friday_13(month, year):\n",
        "\treturn True if date(year, month, 13).weekday() == 4 else False\n",
        "  \n",
        "has_friday_13(1, 1985)"
      ],
      "execution_count": null,
      "outputs": [
        {
          "output_type": "execute_result",
          "data": {
            "text/plain": [
              "False"
            ]
          },
          "metadata": {
            "tags": []
          },
          "execution_count": 15
        }
      ]
    },
    {
      "cell_type": "code",
      "metadata": {
        "id": "DEG-QFPzcv_v",
        "outputId": "39d4d692-398b-44f4-f2f7-1dc856ffb518",
        "colab": {
          "base_uri": "https://localhost:8080/",
          "height": 35
        }
      },
      "source": [
        "def sorting(s):\n",
        "  sorted_list = sorted(sorted(s, reverse=True), key=str.lower)\n",
        "  while True:\n",
        "    try:\n",
        "      first_element = int(sorted_list[0])\n",
        "      sorted_list = sorted_list[1:]\n",
        "      sorted_list.append(str(first_element))\n",
        "    except ValueError:\n",
        "      break\n",
        "  return \"\".join(sorted_list)\n",
        "\n",
        "def sorting(s):\n",
        "  new_key = 'aAbBcCdDeEfFgGhHiIjJkKlLmMnNoOpPqQrRsStTuUvVwWxXyYzZ0123456789'\n",
        "  return ''.join(sorted(s, key=new_key.index))\n",
        "\n",
        "def sorting(s):\n",
        "\treturn ''.join(sorted(s,key=lambda x: (x.isdigit(), x.lower(), x.isupper())))\n",
        "\n",
        "sorting(\"eA2a1E\")"
      ],
      "execution_count": null,
      "outputs": [
        {
          "output_type": "execute_result",
          "data": {
            "application/vnd.google.colaboratory.intrinsic+json": {
              "type": "string"
            },
            "text/plain": [
              "'aAeE12'"
            ]
          },
          "metadata": {
            "tags": []
          },
          "execution_count": 47
        }
      ]
    },
    {
      "cell_type": "code",
      "metadata": {
        "id": "-KoEFs3jEfB8"
      },
      "source": [
        "def sum_primes(lst):\n",
        "  prime_sum = 0\n",
        "  for num in lst:\n",
        "    if is_prime(num):\n",
        "      prime_sum += num\n",
        "  return prime_sum if prime_sum > 0 else None\n",
        "\n",
        "def is_prime(num):\n",
        "  if num == 1:\n",
        "    return False\n",
        "  divisor = 2\n",
        "  while divisor <= (num//2):\n",
        "    if (num % divisor) == 0:\n",
        "      return False\n",
        "    divisor += 1\n",
        "  return True\n",
        "\n",
        "sum_primes([])"
      ],
      "execution_count": null,
      "outputs": []
    },
    {
      "cell_type": "code",
      "metadata": {
        "id": "0wTVkhWI4qVl",
        "outputId": "54e45870-cb09-490e-e1fa-ee2c1fd5b884",
        "colab": {
          "base_uri": "https://localhost:8080/",
          "height": 35
        }
      },
      "source": [
        "def super_reduced_string(txt):\n",
        "  ascii_value = []\n",
        "  for char in txt:\n",
        "    ascii_value.append(ord(char))\n",
        "  \n",
        "  i = 0\n",
        "  while i < len(ascii_value) - 1:\n",
        "    if ascii_value[i] == ascii_value[i+1]:\n",
        "      del ascii_value[i:i+2]\n",
        "      i = 0\n",
        "    else:\n",
        "      i += 1\n",
        "  return ''.join([chr(val) for val in ascii_value]) if ascii_value != [] else \"Empty String\"\n",
        "\n",
        "super_reduced_string(\"bccddb\")"
      ],
      "execution_count": null,
      "outputs": [
        {
          "output_type": "execute_result",
          "data": {
            "application/vnd.google.colaboratory.intrinsic+json": {
              "type": "string"
            },
            "text/plain": [
              "'Empty String'"
            ]
          },
          "metadata": {
            "tags": []
          },
          "execution_count": 78
        }
      ]
    },
    {
      "cell_type": "code",
      "metadata": {
        "id": "38ukXe_RAnZK"
      },
      "source": [
        "def unique_ordered(sequence):\n",
        "  seen = set()\n",
        "  return [x for x in sequence if not (x in seen or seen.add(x))]"
      ],
      "execution_count": null,
      "outputs": []
    },
    {
      "cell_type": "code",
      "metadata": {
        "id": "uh7eAQpoiMhM",
        "outputId": "1a2d91f4-ba1f-4994-e80f-d76bd38f3d30",
        "colab": {
          "base_uri": "https://localhost:8080/",
          "height": 35
        }
      },
      "source": [
        "import numpy as np\n",
        "def who_won(board):\n",
        "  board = np.array(board)\n",
        "  board2 = np.swapaxes(board, 0, 1)\n",
        "  total_board = np.concatenate((board, board2))\n",
        "  total_board = np.r_[total_board, [board.diagonal()], [np.fliplr(board).diagonal()]]\n",
        "  return \"X\" if np.any(np.all([\"X\", \"X\", \"X\"] == total_board, axis=1) == True) else \"O\"\n",
        "\n",
        "who_won([\n",
        "\t[\"O\", \"O\", \"X\"],\n",
        "\t[\"O\", \"X\", \"X\"],\n",
        "\t[\"X\", \"X\", \"O\"],\n",
        "])"
      ],
      "execution_count": null,
      "outputs": [
        {
          "output_type": "execute_result",
          "data": {
            "application/vnd.google.colaboratory.intrinsic+json": {
              "type": "string"
            },
            "text/plain": [
              "'X'"
            ]
          },
          "metadata": {
            "tags": []
          },
          "execution_count": 93
        }
      ]
    },
    {
      "cell_type": "code",
      "metadata": {
        "id": "xd1XHws_AdxS",
        "outputId": "e36c448e-4606-4f8a-ac67-390f7b6d0d53",
        "colab": {
          "base_uri": "https://localhost:8080/",
          "height": 34
        }
      },
      "source": [
        "def counterpartCharCode(char):\n",
        "\treturn ord(char.swapcase())\n",
        "\n",
        "counterpartCharCode(\"A\")"
      ],
      "execution_count": null,
      "outputs": [
        {
          "output_type": "execute_result",
          "data": {
            "text/plain": [
              "97"
            ]
          },
          "metadata": {
            "tags": []
          },
          "execution_count": 65
        }
      ]
    },
    {
      "cell_type": "code",
      "metadata": {
        "id": "qKlLiCZF_wJf",
        "outputId": "e408218b-c3af-4b5d-e19c-2eecc7f0ea79",
        "colab": {
          "base_uri": "https://localhost:8080/",
          "height": 34
        }
      },
      "source": [
        "import numpy as np\n",
        "def add_indexes(lst):\n",
        "  index_arr = np.arange(0, len(lst))\n",
        "  return (lst + index_arr).tolist()\n",
        "\n",
        "add_indexes([0, 0, 0, 0, 0])"
      ],
      "execution_count": null,
      "outputs": [
        {
          "output_type": "execute_result",
          "data": {
            "text/plain": [
              "[0, 1, 2, 3, 4]"
            ]
          },
          "metadata": {
            "tags": []
          },
          "execution_count": 54
        }
      ]
    },
    {
      "cell_type": "code",
      "metadata": {
        "id": "ot9clnPH-Xty",
        "outputId": "83c980a3-6aa1-4052-adc0-845dd08c90a3",
        "colab": {
          "base_uri": "https://localhost:8080/",
          "height": 34
        }
      },
      "source": [
        "def oddeven(lst):\n",
        "  uneven = 0\n",
        "  for num in lst:\n",
        "    if num & 1:\n",
        "      uneven += 1\n",
        "  return True if uneven > len(lst)/2 else False\n",
        "\n",
        "oddeven([1, 2, 3, 4, 5, 6, 7, 8, 9])"
      ],
      "execution_count": null,
      "outputs": [
        {
          "output_type": "execute_result",
          "data": {
            "text/plain": [
              "True"
            ]
          },
          "metadata": {
            "tags": []
          },
          "execution_count": 50
        }
      ]
    },
    {
      "cell_type": "code",
      "metadata": {
        "id": "kPuhqrZ-6030",
        "outputId": "a2bab227-eac8-4b97-fa91-aca9645de2cf",
        "colab": {
          "base_uri": "https://localhost:8080/",
          "height": 35
        }
      },
      "source": [
        "import numpy as np\n",
        "def id_mtrx(n):\n",
        "  try:\n",
        "    if n < 0:\n",
        "      return np.fliplr(np.identity(np.abs(n), dtype=np.int)).tolist()\n",
        "    elif n > 0:\n",
        "      return np.identity(np.abs(n), dtype=np.int).tolist()\n",
        "    else:\n",
        "      return []\n",
        "  except TypeError:\n",
        "    return \"Error\"\n",
        "\n",
        "def id_mtrx(n):\n",
        "  if type(n) != int:\n",
        "    return \"Error\"\n",
        "  if n > 0:\n",
        "    return np.eye(n).tolist()\n",
        "  return np.fliplr(np.eye(-n)).tolist()\n",
        "\n",
        "id_mtrx(\"E\")\n"
      ],
      "execution_count": null,
      "outputs": [
        {
          "output_type": "execute_result",
          "data": {
            "application/vnd.google.colaboratory.intrinsic+json": {
              "type": "string"
            },
            "text/plain": [
              "'Error'"
            ]
          },
          "metadata": {
            "tags": []
          },
          "execution_count": 36
        }
      ]
    },
    {
      "cell_type": "code",
      "metadata": {
        "id": "HkcAbWzno6q1",
        "outputId": "2ec2034e-6eb8-4285-c8d0-24e9cc1563ee",
        "colab": {
          "base_uri": "https://localhost:8080/",
          "height": 34
        }
      },
      "source": [
        "def discount(lst):\n",
        "  discount_items = len(lst) // 3\n",
        "  total_dis = sum(sorted(lst)[:discount_items])\n",
        "  total_price = sum(lst)\n",
        "  discount = total_price - total_dis\n",
        "  for i, item in enumerate(lst):\n",
        "    lst[i] = round((item / total_price) * discount, 2)\n",
        "  return lst\n",
        "\n",
        "discount([2.99, 5.75, 3.35, 4.99])"
      ],
      "execution_count": null,
      "outputs": [
        {
          "output_type": "execute_result",
          "data": {
            "text/plain": [
              "[2.47, 4.74, 2.76, 4.12]"
            ]
          },
          "metadata": {
            "tags": []
          },
          "execution_count": 41
        }
      ]
    },
    {
      "cell_type": "code",
      "metadata": {
        "id": "DYjt0jl11aqi",
        "outputId": "c8d5eb08-1e00-4314-a7a7-0d9ceae1164c",
        "colab": {
          "base_uri": "https://localhost:8080/",
          "height": 35
        }
      },
      "source": [
        "def char_at_pos(r, s):\n",
        "  return r[1::2] if s == \"even\" else r[::2]\n",
        "\n",
        "char_at_pos(\"EDABIT\", \"odd\")"
      ],
      "execution_count": null,
      "outputs": [
        {
          "output_type": "execute_result",
          "data": {
            "application/vnd.google.colaboratory.intrinsic+json": {
              "type": "string"
            },
            "text/plain": [
              "'EAI'"
            ]
          },
          "metadata": {
            "tags": []
          },
          "execution_count": 56
        }
      ]
    },
    {
      "cell_type": "code",
      "metadata": {
        "id": "hQGP48sWu2tz",
        "outputId": "f7c793f2-9f63-4104-cf17-4015bfa50cb1",
        "colab": {
          "base_uri": "https://localhost:8080/",
          "height": 34
        }
      },
      "source": [
        "import re\n",
        "def sort_dates(lst, mode):\n",
        "  date_dict = {}\n",
        "  keys = []\n",
        "  for date in lst:\n",
        "    temp = re.split(':|_|-', date)\n",
        "    key = f'{temp[2]}-{temp[1]}-{temp[0]}_{temp[3]}:{temp[4]}'\n",
        "    date_dict[key] = date\n",
        "    keys.append(key)\n",
        "  \n",
        "  keys = sorted(keys)\n",
        "  if mode == \"DSC\":\n",
        "    keys = keys[::-1]\n",
        "  \n",
        "  for i, key_ in enumerate(keys):\n",
        "    lst[i] = date_dict[key_]\n",
        "  return lst\n",
        "\n",
        "sort_dates([\"10-02-2018_12:30\", \"10-02-2016_12:30\", \"10-02-2018_12:15\"], \"ASC\")\n",
        "# next time use daytime lib"
      ],
      "execution_count": null,
      "outputs": [
        {
          "output_type": "execute_result",
          "data": {
            "text/plain": [
              "['10-02-2016_12:30', '10-02-2018_12:15', '10-02-2018_12:30']"
            ]
          },
          "metadata": {
            "tags": []
          },
          "execution_count": 48
        }
      ]
    },
    {
      "cell_type": "code",
      "metadata": {
        "id": "n3q0uizlgAyd",
        "outputId": "aaafbadc-9e92-48e1-ff6a-485976ce9216",
        "colab": {
          "base_uri": "https://localhost:8080/",
          "height": 35
        }
      },
      "source": [
        "def majority_vote(lst):\n",
        "  unique_elements = list(set(lst))\n",
        "  for element in unique_elements:\n",
        "    if lst.count(element) > (0.5* len(lst)):\n",
        "      return element\n",
        "  return None\n",
        "\n",
        "\n",
        "#majority_vote([\"A\", \"A\", \"B\"])\n",
        "majority_vote([\"A\", \"A\", \"A\", \"B\", \"C\", \"A\"])"
      ],
      "execution_count": null,
      "outputs": [
        {
          "output_type": "execute_result",
          "data": {
            "application/vnd.google.colaboratory.intrinsic+json": {
              "type": "string"
            },
            "text/plain": [
              "'A'"
            ]
          },
          "metadata": {
            "tags": []
          },
          "execution_count": 29
        }
      ]
    },
    {
      "cell_type": "code",
      "metadata": {
        "id": "rAz8kaV90Pe6",
        "outputId": "d91eaf6e-1b42-4864-ce6b-0f7c91dbe12f",
        "colab": {
          "base_uri": "https://localhost:8080/",
          "height": 35
        }
      },
      "source": [
        "months = { \"1\": \"A\", \"2\": \"B\", \"3\": \"C\", \"4\": \"D\", \"5\": \"E\", \"6\": \"H\",\n",
        "           \"7\": \"L\", \"8\": \"M\", \"9\": \"P\", \"10\": \"R\", \"11\": \"S\", \"12\": \"T\" }\n",
        "vocals = ['a', 'e', 'i', 'o', 'u', 'y']\n",
        "\n",
        "def fiscal_code(person):\n",
        "  code = \"\"\n",
        "  def name_composition(name, id):\n",
        "    vow = \"\"\n",
        "    cons = \"\"\n",
        "    for char in name:\n",
        "      if char.lower() in vocals:\n",
        "        vow += char.upper()\n",
        "      else:\n",
        "        cons += char.upper()\n",
        "    return {'id': id, 'vowels': vow, 'consonants': cons}\n",
        "\n",
        "  def create_name_code(info):\n",
        "    if (len(info['consonants']) + len(info['vowels'])) < 3:\n",
        "      _code = info['consonants'] + info['vowels'] + \"X\"\n",
        "    elif len(info['consonants']) < 3:\n",
        "      _code = (info['consonants'] + info['vowels'])[:3]\n",
        "    elif len(info['consonants']) == 3:\n",
        "      _code = info['consonants'][:3]\n",
        "    else:\n",
        "      if info['id'] == 's':\n",
        "        _code = info['consonants'][:3]\n",
        "      else:\n",
        "        _code = info['consonants'][0] + info['consonants'][2:4]\n",
        "    return _code\n",
        "\n",
        "  code += create_name_code(name_composition(person['surname'], 's'))\n",
        "  code += create_name_code(name_composition(person['name'], 'n'))\n",
        "  code += person['dob'][-2:]\n",
        "  code += months[person['dob'].split('/')[1]]\n",
        "  if person['gender'] == 'M':\n",
        "    code += person['dob'].split('/')[0].zfill(2)\n",
        "  else:\n",
        "    code += str(int(person['dob'].split('/')[0]) + 40)\n",
        "\n",
        "  return code\n",
        "\n",
        "\n",
        "fiscal_code({\n",
        "  \"name\": \"Mickey\",\n",
        "  \"surname\": \"Mouse\",\n",
        "  \"gender\": \"M\",\n",
        "  \"dob\": \"16/1/1928\"\n",
        "})"
      ],
      "execution_count": null,
      "outputs": [
        {
          "output_type": "execute_result",
          "data": {
            "application/vnd.google.colaboratory.intrinsic+json": {
              "type": "string"
            },
            "text/plain": [
              "'MSOMCK28A16'"
            ]
          },
          "metadata": {
            "tags": []
          },
          "execution_count": 132
        }
      ]
    },
    {
      "cell_type": "code",
      "metadata": {
        "id": "LxJqQsl6kFO6",
        "outputId": "a83ef925-84cb-40b3-9233-9f7e349d4def",
        "colab": {
          "base_uri": "https://localhost:8080/",
          "height": 35
        }
      },
      "source": [
        "def convert_to_hex(txt):\n",
        "  out = []\n",
        "  for char in txt:\n",
        "    out.append(str(hex(ord(char)))[2:])\n",
        "  return \" \".join(out)\n",
        "\n",
        "def convert_to_hex(txt):\n",
        "\treturn ' '.join([format(ord(i),'x') for i in txt])\n",
        "\n",
        "convert_to_hex(\"Big Boi\")"
      ],
      "execution_count": null,
      "outputs": [
        {
          "output_type": "execute_result",
          "data": {
            "application/vnd.google.colaboratory.intrinsic+json": {
              "type": "string"
            },
            "text/plain": [
              "'42 69 67 20 42 6f 69'"
            ]
          },
          "metadata": {
            "tags": []
          },
          "execution_count": 95
        }
      ]
    },
    {
      "cell_type": "code",
      "metadata": {
        "id": "WMLPtpvoidi-",
        "outputId": "346e2723-01f0-462e-b883-cdd4af3dd57b",
        "colab": {
          "base_uri": "https://localhost:8080/",
          "height": 34
        }
      },
      "source": [
        "import numpy as np\n",
        "def tallest_skyscraper(lst):\n",
        "  lst = np.array(lst)\n",
        "  height = 0\n",
        "  for i in range(lst.shape[-1]):\n",
        "    height = max(height, sum(lst[:, i]))\n",
        "  return height"
      ],
      "execution_count": null,
      "outputs": [
        {
          "output_type": "execute_result",
          "data": {
            "text/plain": [
              "3"
            ]
          },
          "metadata": {
            "tags": []
          },
          "execution_count": 48
        }
      ]
    },
    {
      "cell_type": "code",
      "metadata": {
        "id": "DrFpQ_j9eJPE",
        "outputId": "57457731-3bd6-4865-c18f-0adea89327ce",
        "colab": {
          "base_uri": "https://localhost:8080/",
          "height": 34
        }
      },
      "source": [
        "def bonus(days):\n",
        "  return 0 if days <= 32 else 325* ((days-32) * (days-32 > 0) - (days-40) * (days-40 > 0)) + 550* ((days-40) * (days-40 > 0) - (days-48) * (days-48 > 0)) + 600* (days-48) * (days-48 > 0)\n",
        "bonus(50)"
      ],
      "execution_count": null,
      "outputs": [
        {
          "output_type": "execute_result",
          "data": {
            "text/plain": [
              "8200"
            ]
          },
          "metadata": {
            "tags": []
          },
          "execution_count": 36
        }
      ]
    },
    {
      "cell_type": "code",
      "metadata": {
        "id": "-VCq3qRhcGXF",
        "outputId": "b474002b-b0f4-46f5-afa6-89ed142b4b47",
        "colab": {
          "base_uri": "https://localhost:8080/",
          "height": 34
        }
      },
      "source": [
        "def list_of_multiples (num, length):\n",
        "  return [x for x in range(num, num*length+1, num)]\n",
        "  \n",
        "list_of_multiples2(12, 10)"
      ],
      "execution_count": null,
      "outputs": [
        {
          "output_type": "execute_result",
          "data": {
            "text/plain": [
              "[12, 24, 36, 48, 60, 72, 84, 96, 108, 120]"
            ]
          },
          "metadata": {
            "tags": []
          },
          "execution_count": 18
        }
      ]
    },
    {
      "cell_type": "code",
      "metadata": {
        "id": "Cdk5Zb4i9iWb",
        "outputId": "53d4f7d6-1c1f-4d4f-9917-e46e6b6f8b73",
        "colab": {
          "base_uri": "https://localhost:8080/",
          "height": 34
        }
      },
      "source": [
        "class Employee:\n",
        "  def __init__(self, name, **info):\n",
        "    self.name, self.lastname = name.split(\" \")\n",
        "    self.__dict__.update(info)\n",
        "\n",
        "john = Employee('John Doe')\n",
        "mary = Employee('Mary Major', salary=120000)\n",
        "richard = Employee('Richard Roe', salary=110000, height=178)\n",
        "giancarlo = Employee('Giancarlo Rossi', salary=115000, height=182, nationality='Italian')\n",
        "peng = Employee('Peng Zhu', salary=500000, height=185, nationality='Chinese', subordinates=[i.lastname for i in (john, mary, richard, giancarlo)])\n",
        "\n",
        "giancarlo.height\n",
        "peng.subordinates"
      ],
      "execution_count": null,
      "outputs": [
        {
          "output_type": "execute_result",
          "data": {
            "text/plain": [
              "['Doe', 'Major', 'Roe', 'Rossi']"
            ]
          },
          "metadata": {
            "tags": []
          },
          "execution_count": 67
        }
      ]
    },
    {
      "cell_type": "code",
      "metadata": {
        "id": "JMAB3AjE3nVy",
        "outputId": "fa6c4ac4-ecb0-436b-fe21-f94ebed14a4e",
        "colab": {
          "base_uri": "https://localhost:8080/",
          "height": 52
        }
      },
      "source": [
        "def is_economical(n):\n",
        "  list_of_primes = (prime_factors(n))\n",
        "  digits = len(str(n))\n",
        "  prime_digits = \"\"\n",
        "  for unqiue_element in set(list_of_primes):\n",
        "    prime_digits += str(unqiue_element)\n",
        "    if (list_of_primes.count(unqiue_element)) > 1:\n",
        "      prime_digits += str((list_of_primes.count(unqiue_element)))\n",
        "  if len(prime_digits) == digits:\n",
        "    return \"Equidigital\"\n",
        "  elif len(prime_digits) < digits:\n",
        "    return \"Frugal\"\n",
        "  return \"Wasteful\"\n",
        "  \n",
        "\n",
        "def prime_factors(num):\n",
        "  f = 2\n",
        "  prime_list = []\n",
        "  while num!=1:\n",
        "    if (num % f) == 0:\n",
        "      prime_list.append(f)\n",
        "      num //= f\n",
        "    else:\n",
        "      f += 1\n",
        "  return prime_list\n",
        "\n",
        "is_economical(14)"
      ],
      "execution_count": null,
      "outputs": [
        {
          "output_type": "stream",
          "text": [
            "27\n"
          ],
          "name": "stdout"
        },
        {
          "output_type": "execute_result",
          "data": {
            "application/vnd.google.colaboratory.intrinsic+json": {
              "type": "string"
            },
            "text/plain": [
              "'Equidigital'"
            ]
          },
          "metadata": {
            "tags": []
          },
          "execution_count": 34
        }
      ]
    },
    {
      "cell_type": "code",
      "metadata": {
        "id": "O--vQfMUCC29",
        "outputId": "b1660ae4-4ab9-4c36-d061-e261b762c5a7",
        "colab": {
          "base_uri": "https://localhost:8080/",
          "height": 35
        }
      },
      "source": [
        "def stutter(word):\n",
        "\treturn \"\".join((word[:2] + \"... \")*2 + word + \"?\")\n",
        " \n",
        "stutter(\"increasing\")"
      ],
      "execution_count": null,
      "outputs": [
        {
          "output_type": "execute_result",
          "data": {
            "application/vnd.google.colaboratory.intrinsic+json": {
              "type": "string"
            },
            "text/plain": [
              "'in... in... increasing?'"
            ]
          },
          "metadata": {
            "tags": []
          },
          "execution_count": 133
        }
      ]
    },
    {
      "cell_type": "code",
      "metadata": {
        "id": "LgY17xQ-oZjK",
        "outputId": "e39f6d78-cdb5-4d20-bf60-b076aae26793",
        "colab": {
          "base_uri": "https://localhost:8080/",
          "height": 35
        }
      },
      "source": [
        "def next_letters(s):\n",
        "  alphabet = ['A','B','C','D','E','F','G','H','I','J',\n",
        "              'K','L','M','N','O','P','Q','R','S','T',\n",
        "              'U','V','W','X','Y','Z']\n",
        "  char_to_idx = {chars: idx for idx, chars in enumerate(alphabet)}\n",
        "  reversed_s = s[::-1]\n",
        "  s_id = []\n",
        "  for current_char in reversed_s:\n",
        "    s_id.append(char_to_idx[current_char])\n",
        "\n",
        "  i = 0\n",
        "  extra = 1\n",
        "  while i < len(s_id):\n",
        "    s_id[i] = s_id[i] + 1\n",
        "    if s_id[i] >= len(alphabet):\n",
        "      s_id[i] = s_id[i] % len(alphabet)\n",
        "      extra = 1\n",
        "    else:\n",
        "      extra = 0\n",
        "      break\n",
        "    i += 1\n",
        "\n",
        "  res_id = s_id[::-1]\n",
        "  res = \"\".join(alphabet[element] for element in res_id)\n",
        "  if extra == 1:\n",
        "    return \"\".join(res + \"A\")\n",
        "  return res\n",
        "\n",
        "next_letters(\"ZZZZZZZZZZZZZZZZZZZZZZZZZZZZZZZ\")"
      ],
      "execution_count": null,
      "outputs": [
        {
          "output_type": "execute_result",
          "data": {
            "application/vnd.google.colaboratory.intrinsic+json": {
              "type": "string"
            },
            "text/plain": [
              "'AAAAAAAAAAAAAAAAAAAAAAAAAAAAAAAA'"
            ]
          },
          "metadata": {
            "tags": []
          },
          "execution_count": 131
        }
      ]
    },
    {
      "cell_type": "code",
      "metadata": {
        "id": "H5-jB2lVmjKD",
        "outputId": "58d15a58-2f9d-4769-d8ec-4892e8d0f1b4",
        "colab": {
          "base_uri": "https://localhost:8080/",
          "height": 34
        }
      },
      "source": [
        "import math\n",
        "def solutions(a, b, c):\n",
        "  try:\n",
        "    sol1 = (-b + math.sqrt(b**2 - (4*a*c))) / (2*a)\n",
        "    sol2 = (-b - math.sqrt(b**2 - (4*a*c))) / (2*a)\n",
        "  except ValueError:\n",
        "    return 0\n",
        "  return 1 if sol1 == sol2 else 2\n",
        "\n",
        "solutions(1, 0, -1)"
      ],
      "execution_count": null,
      "outputs": [
        {
          "output_type": "execute_result",
          "data": {
            "text/plain": [
              "2"
            ]
          },
          "metadata": {
            "tags": []
          },
          "execution_count": 27
        }
      ]
    },
    {
      "cell_type": "code",
      "metadata": {
        "id": "rwocLGHO-fGm",
        "outputId": "41dfeb7f-b575-4f49-bbdf-d3a57421240a",
        "colab": {
          "base_uri": "https://localhost:8080/",
          "height": 34
        }
      },
      "source": [
        "def fact(n):\n",
        "  fac = 1\n",
        "  for i in range(2, n+1):\n",
        "    fac = i*fac\n",
        "  return fac\n"
      ],
      "execution_count": null,
      "outputs": [
        {
          "output_type": "execute_result",
          "data": {
            "text/plain": [
              "720"
            ]
          },
          "metadata": {
            "tags": []
          },
          "execution_count": 20
        }
      ]
    },
    {
      "cell_type": "code",
      "metadata": {
        "id": "5bS1kosgjs-E",
        "outputId": "9ba35e6d-8940-4a0d-b3e6-f21f2acd5a71",
        "colab": {
          "base_uri": "https://localhost:8080/",
          "height": 35
        }
      },
      "source": [
        "def overlap(s1, s2):\n",
        "  index = len(s1)\n",
        "  for i in range(len(s1)):\n",
        "    if s2.startswith(s1[i:]):\n",
        "      index = i\n",
        "      break\n",
        "  return s1[:index] + s2\n",
        "      \n",
        "\n",
        "var1 = \"sweden\"\n",
        "var2 = \"denmark\"\n",
        "\n",
        "overlap(var1, var2)"
      ],
      "execution_count": null,
      "outputs": [
        {
          "output_type": "execute_result",
          "data": {
            "application/vnd.google.colaboratory.intrinsic+json": {
              "type": "string"
            },
            "text/plain": [
              "'swedenmark'"
            ]
          },
          "metadata": {
            "tags": []
          },
          "execution_count": 41
        }
      ]
    },
    {
      "cell_type": "code",
      "metadata": {
        "id": "yz69LhlDw4tP",
        "outputId": "ecce25dc-c8bd-4f04-e9ad-8b35f85903a5",
        "colab": {
          "base_uri": "https://localhost:8080/",
          "height": 35
        }
      },
      "source": [
        "def uncensor(txt, vowels):\n",
        "\ttxt = txt.replace('*', '{}')\n",
        "\treturn txt.format(*vowels)\n",
        "\n",
        "uncensor(\"Wh*r* d*d my v*w*ls g*?\", \"eeioeo\")"
      ],
      "execution_count": null,
      "outputs": [
        {
          "output_type": "execute_result",
          "data": {
            "application/vnd.google.colaboratory.intrinsic+json": {
              "type": "string"
            },
            "text/plain": [
              "'Where did my vowels go?'"
            ]
          },
          "metadata": {
            "tags": []
          },
          "execution_count": 42
        }
      ]
    },
    {
      "cell_type": "code",
      "metadata": {
        "id": "JikosMWRu2nb",
        "outputId": "e8706570-9d24-4220-b424-ba248c09e6dd",
        "colab": {
          "base_uri": "https://localhost:8080/",
          "height": 34
        }
      },
      "source": [
        "def pentagonal(num):\n",
        "  n = 1\n",
        "  for i in range(num):\n",
        "    n += i*5\n",
        "  return n\n",
        "    \n",
        "pentagonal(2)"
      ],
      "execution_count": null,
      "outputs": [
        {
          "output_type": "execute_result",
          "data": {
            "text/plain": [
              "6"
            ]
          },
          "metadata": {
            "tags": []
          },
          "execution_count": 22
        }
      ]
    },
    {
      "cell_type": "code",
      "metadata": {
        "id": "bZw-TaQrtpcw",
        "outputId": "540d1698-6f3d-4768-cf48-ab19836945ff",
        "colab": {
          "base_uri": "https://localhost:8080/",
          "height": 34
        }
      },
      "source": [
        "def max_possible(n1, n2):\n",
        "  n1 = list(map(int, str(n1)))\n",
        "  n2 = list(map(int, str(n2)))\n",
        "\n",
        "  max_n = \"\"\n",
        "  i = 0\n",
        "  while i < len(n1):\n",
        "    if n1[i] < max(n2):\n",
        "      n1[i] = max(n2)\n",
        "      n2[n2.index(max(n2))] = 0\n",
        "    max_n += str(n1[i])\n",
        "    i += 1\n",
        "  return int(max_n)\n",
        "  \n",
        "max_possible(523, 76)"
      ],
      "execution_count": null,
      "outputs": [
        {
          "output_type": "execute_result",
          "data": {
            "text/plain": [
              "763"
            ]
          },
          "metadata": {
            "tags": []
          },
          "execution_count": 280
        }
      ]
    },
    {
      "cell_type": "code",
      "metadata": {
        "id": "XpwNeNsmqUNu",
        "outputId": "513355cc-2caa-4387-f4d4-322673dda318",
        "colab": {
          "base_uri": "https://localhost:8080/",
          "height": 34
        }
      },
      "source": [
        "def will_hit(equation, position):\n",
        "  filtered_equation = (\"\".join(list(filter(lambda x: x in 'x.0123456789-', equation)))).split(\"x\")\n",
        "  x = float(filtered_equation[0])\n",
        "  b = float(filtered_equation[1])\n",
        "  if position[1] == (x*position[0]+b):\n",
        "    return True\n",
        "  return False\n",
        "\n",
        "will_hit(\"y = 2x - 5\", (0, 0))"
      ],
      "execution_count": null,
      "outputs": [
        {
          "output_type": "execute_result",
          "data": {
            "text/plain": [
              "False"
            ]
          },
          "metadata": {
            "tags": []
          },
          "execution_count": 245
        }
      ]
    },
    {
      "cell_type": "code",
      "metadata": {
        "id": "z-JmgdOYnzo8",
        "outputId": "dbedf183-6f7a-4e9c-dd26-59ae2102fc12",
        "colab": {
          "base_uri": "https://localhost:8080/",
          "height": 35
        }
      },
      "source": [
        "def encode_morse(message):\n",
        "  char_to_dots = {\n",
        "  'A': '.-', 'B': '-...', 'C': '-.-.', 'D': '-..', 'E': '.', 'F': '..-.',\n",
        "  'G': '--.', 'H': '....', 'I': '..', 'J': '.---', 'K': '-.-', 'L': '.-..',\n",
        "  'M': '--', 'N': '-.', 'O': '---', 'P': '.--.', 'Q': '--.-', 'R': '.-.',\n",
        "  'S': '...', 'T': '-', 'U': '..-', 'V': '...-', 'W': '.--', 'X': '-..-',\n",
        "  'Y': '-.--', 'Z': '--..', ' ': ' ', '0': '-----',\n",
        "  '1': '.----', '2': '..---', '3': '...--', '4': '....-', '5': '.....',\n",
        "  '6': '-....', '7': '--...', '8': '---..', '9': '----.',\n",
        "  '&': '.-...', \"'\": '.----.', '@': '.--.-.', ')': '-.--.-', '(': '-.--.',\n",
        "  ':': '---...', ',': '--..--', '=': '-...-', '!': '-.-.--', '.': '.-.-.-',\n",
        "  '-': '-....-', '+': '.-.-.', '\"': '.-..-.', '?': '..--..', '/': '-..-.'\n",
        "  }\n",
        "  return \" \".join(char_to_dots[char] for char in message.upper())\n",
        "\n",
        "encode_morse(\"HELP ME !\")"
      ],
      "execution_count": null,
      "outputs": [
        {
          "output_type": "execute_result",
          "data": {
            "application/vnd.google.colaboratory.intrinsic+json": {
              "type": "string"
            },
            "text/plain": [
              "'.... . .-.. .--.   -- .   -.-.--'"
            ]
          },
          "metadata": {
            "tags": []
          },
          "execution_count": 226
        }
      ]
    },
    {
      "cell_type": "code",
      "metadata": {
        "id": "t5BMxv_KXE5a",
        "outputId": "b87c8327-029a-4047-f082-10f97db38ebb",
        "colab": {
          "base_uri": "https://localhost:8080/",
          "height": 34
        }
      },
      "source": [
        "import math\n",
        "def digits(number):\n",
        "  # https://edabit.com/challenge/j9zed4GnykS48W6vh\n",
        "  n_len = int(math.log10(number))+1\n",
        "  n_rest = number - int(math.pow(10, n_len-1))\n",
        "  total = n_len * n_rest\n",
        "  for i in range(n_len):\n",
        "    total += int(math.pow(10, i-1))*9*i\n",
        "  return total\n",
        "\n",
        "digits(2020)\n"
      ],
      "execution_count": null,
      "outputs": [
        {
          "output_type": "execute_result",
          "data": {
            "text/plain": [
              "6969"
            ]
          },
          "metadata": {
            "tags": []
          },
          "execution_count": 205
        }
      ]
    },
    {
      "cell_type": "code",
      "metadata": {
        "id": "Gkcd48thKgK1",
        "outputId": "0b8defa4-8b1e-4767-b7d3-8dd0b4480f71",
        "colab": {
          "base_uri": "https://localhost:8080/",
          "height": 34
        }
      },
      "source": [
        "def truncatable(n):\n",
        "  str_n = str(n)\n",
        "  if \"0\" in str_n:\n",
        "    return False\n",
        "  lr_n = [prime_factors(n)]\n",
        "  rl_n = [prime_factors(n)]\n",
        "  for i in range(1, len(str_n)):\n",
        "    lr_n.append(prime_factors(int(str_n[i:])))\n",
        "    rl_n.append(prime_factors(int(str_n[:-i])))\n",
        "\n",
        "  if all(len(x) == 1 for x in lr_n) and all(len(x) == 1 for x in rl_n):\n",
        "    return \"both\"\n",
        "  elif all(len(x) == 1 for x in lr_n):\n",
        "    return \"left\"\n",
        "  elif all(len(x) == 1 for x in rl_n):\n",
        "    return \"right\"\n",
        "  else:\n",
        "    return False\n",
        "  \n",
        "\n",
        "def prime_factors(num):\n",
        "  f = 2\n",
        "  prime_list = []\n",
        "  while num!=1:\n",
        "    if (num % f) == 0:\n",
        "      prime_list.append(f)\n",
        "      num //= f\n",
        "    else:\n",
        "      f += 1\n",
        "  return prime_list\n",
        "\n",
        "\n",
        "truncatable(2317)"
      ],
      "execution_count": null,
      "outputs": [
        {
          "output_type": "execute_result",
          "data": {
            "text/plain": [
              "False"
            ]
          },
          "metadata": {
            "tags": []
          },
          "execution_count": 119
        }
      ]
    },
    {
      "cell_type": "code",
      "metadata": {
        "id": "pZgvdx3jFrN_",
        "outputId": "06bbd75a-cb79-46f7-f68d-c4d914d2f259",
        "colab": {
          "base_uri": "https://localhost:8080/",
          "height": 34
        }
      },
      "source": [
        "def valid_color (color):\n",
        "  filtered_colors = (\"\".join(list(filter(lambda x: x in ',.0123456789%-', color)))).split(\",\")\n",
        "  norm_colours = []\n",
        "  for i in filtered_colors:\n",
        "    norm_colours.append(norm(i))\n",
        "\n",
        "  if all(isinstance(x, type(norm_colours[0])) for x in norm_colours[:2]) == False:\n",
        "    return False\n",
        "\n",
        "  if (\"rgb(\" in color) and (len(norm_colours) == 3) and all(0 <= i <= 1 for i in norm_colours):\n",
        "    return True\n",
        "  elif \"rgba(\" in color and len(norm_colours) == 4 and all(0 <= i <= 1 for i in norm_colours):\n",
        "    return True\n",
        "  else:\n",
        "    return False\n",
        "\n",
        "def norm(num):\n",
        "  if num:\n",
        "    try:\n",
        "      return int(num) / 255\n",
        "    except ValueError:\n",
        "      try:\n",
        "        return float(num)\n",
        "      except ValueError:\n",
        "        return float(num[:-1])/100\n",
        "\n",
        "  \n",
        "# ANOTHER SOLUTION\n",
        "def valid_color1 (color):\n",
        "  def check(x):\n",
        "    if isinstance(x, int): return 0<=x<=255\n",
        "    else: return 0<=x<=1\n",
        "  def rgb(r,g,b): return check(r) and check(g) and check(b)\n",
        "  def rgba(r,g,b,a): return rgb(r,g,b) and 0<=a<=1\n",
        "  if ' (' in color: return False\n",
        "  try: return eval(color.replace('%', '*0.01'), {'rgb': rgb, 'rgba': rgba}, {})\n",
        "  except: return False\n",
        "\n",
        "\n",
        "valid_color1('rgb (100%,0,0)')"
      ],
      "execution_count": null,
      "outputs": [
        {
          "output_type": "execute_result",
          "data": {
            "text/plain": [
              "False"
            ]
          },
          "metadata": {
            "tags": []
          },
          "execution_count": 196
        }
      ]
    },
    {
      "cell_type": "code",
      "metadata": {
        "id": "t4QrJabm05W-",
        "outputId": "795a67d6-1b16-41b3-e047-e87e780b6d67",
        "colab": {
          "base_uri": "https://localhost:8080/",
          "height": 34
        }
      },
      "source": [
        "class Pizza:\n",
        "  orders = 0\n",
        "\n",
        "  def __init__(self, ingredients):\n",
        "    self.ingredients = ingredients\n",
        "    self.order_number = self.update_order_number()\n",
        "\n",
        "  @classmethod\n",
        "  def hawaiian(cls):\n",
        "    return cls(['ham', 'pineapple'])\n",
        "\n",
        "  @classmethod\n",
        "  def meat_festival(cls):\n",
        "    return cls(['beef', 'meatball', 'bacon'])\n",
        "\n",
        "  @classmethod\n",
        "  def garden_feast(cls):\n",
        "    return cls(['spinach', 'olives', 'mushroom'])\n",
        "  \n",
        "  @staticmethod\n",
        "  def update_order_number():\n",
        "    Pizza.orders += 1\n",
        "    return Pizza.orders\n",
        "\n",
        "p1 = Pizza([\"bacon\", \"parmesan\", \"ham\"])\n",
        "p2 = Pizza.garden_feast()\n",
        "p3 = Pizza.hawaiian()\n",
        "p4 = Pizza.meat_festival()\n",
        "p5 = Pizza([\"pepperoni\", \"bacon\"])\n",
        "my_pizza = Pizza([\"cheese\", \"caviar\", \"oyster\", \"uranium\"])\n",
        "\n",
        "p2.order_number\n"
      ],
      "execution_count": null,
      "outputs": [
        {
          "output_type": "execute_result",
          "data": {
            "text/plain": [
              "2"
            ]
          },
          "metadata": {
            "tags": []
          },
          "execution_count": 726
        }
      ]
    },
    {
      "cell_type": "code",
      "metadata": {
        "id": "sc56QT0pwQDG"
      },
      "source": [
        "import numpy as np\n",
        "def guess_score(code, guess):\n",
        "  # https://edabit.com/challenge/2iibnCci6G42f8Mjr\n",
        "  code = np.array(list(code)).astype(np.int)\n",
        "  guess = np.array(list(guess)).astype(np.int)\n",
        "  bl = sum(code == guess)\n",
        "  wh = sum(np.in1d(code, guess)) - bl\n",
        "  return {\"black\": bl, 'white': wh}"
      ],
      "execution_count": null,
      "outputs": []
    },
    {
      "cell_type": "code",
      "metadata": {
        "id": "bDLeP6NdtKmn",
        "outputId": "f4ae23a2-9b66-4ad8-8182-31436b95f9f5",
        "colab": {
          "base_uri": "https://localhost:8080/",
          "height": 34
        }
      },
      "source": [
        "def prime_factors(num):\n",
        "  f = 2\n",
        "  prime_list = []\n",
        "  while num!=1:\n",
        "    if (num % f) == 0:\n",
        "      prime_list.append(f)\n",
        "      num //= f\n",
        "    else:\n",
        "      f += 1\n",
        "  return prime_list\n",
        "\n",
        "prime_factors(7)"
      ],
      "execution_count": null,
      "outputs": [
        {
          "output_type": "execute_result",
          "data": {
            "text/plain": [
              "[7]"
            ]
          },
          "metadata": {
            "tags": []
          },
          "execution_count": 1
        }
      ]
    },
    {
      "cell_type": "code",
      "metadata": {
        "id": "C05xKFQ5h_Nb",
        "outputId": "0e066061-79b1-4473-91ed-4c8a5ec99837",
        "colab": {
          "base_uri": "https://localhost:8080/",
          "height": 35
        }
      },
      "source": [
        "def simplify(txt):\n",
        "  # Simplified Fractions - https://edabit.com/challenge/vQgmyjcjMoMu9YGGW\n",
        "  num1 = b_num1 = int(txt.split(\"/\")[0])\n",
        "  num2 = b_num2 = int(txt.split(\"/\")[1])\n",
        "\n",
        "  remainder = -1\n",
        "  while remainder != 0:\n",
        "    remainder = max(num1, num2) % min(num1, num2)\n",
        "    num1 = min(num1, num2)\n",
        "    num2 = remainder\n",
        "  \n",
        "  if int(b_num2/num1) == 1:\n",
        "    return str(int(b_num1/num1))\n",
        "  return f'{int(b_num1/num1)}/{int(b_num2/num1)}'\n",
        "\n",
        "simplify(\"8/4\")"
      ],
      "execution_count": null,
      "outputs": [
        {
          "output_type": "execute_result",
          "data": {
            "application/vnd.google.colaboratory.intrinsic+json": {
              "type": "string"
            },
            "text/plain": [
              "'2'"
            ]
          },
          "metadata": {
            "tags": []
          },
          "execution_count": 500
        }
      ]
    },
    {
      "cell_type": "code",
      "metadata": {
        "id": "_zSPYWIFhW-q",
        "outputId": "cfa9773b-b661-45e2-e619-8eea4169dc74",
        "colab": {
          "base_uri": "https://localhost:8080/",
          "height": 34
        }
      },
      "source": [
        "def advanced_sort(lst):\n",
        "  # https://edabit.com/challenge/6vSZmN66xhMRDX8YT\n",
        "  new_list = [[] for i in range(len(set(lst)))]\n",
        "  used = []\n",
        "\n",
        "  for element in lst:\n",
        "    if element not in used:\n",
        "      used.append(element)\n",
        "      new_list[used.index(element)] = [element]*lst.count(element)\n",
        "  return new_list\n",
        "\n",
        "advanced_sort([\"b\", \"a\", \"b\", \"a\", \"c\"])"
      ],
      "execution_count": null,
      "outputs": [
        {
          "output_type": "execute_result",
          "data": {
            "text/plain": [
              "[['b', 'b'], ['a', 'a'], ['c']]"
            ]
          },
          "metadata": {
            "tags": []
          },
          "execution_count": 477
        }
      ]
    },
    {
      "cell_type": "code",
      "metadata": {
        "id": "LRBuvTx-XHrF",
        "outputId": "176ce75a-ad5d-4b0e-b9d4-f2195daab7e1",
        "colab": {
          "base_uri": "https://localhost:8080/",
          "height": 35
        }
      },
      "source": [
        "def staircase(n):\n",
        "  # https://edabit.com/challenge/YqLBEZJR9ySndYQpH\n",
        "  new_txt = \"\"\n",
        "  if n < 0:\n",
        "    for i in range(abs(n)):\n",
        "      new_txt += ('_'*i) + ('#'*(abs(n)-i)) +  \"\\n\"\n",
        "    return new_txt[:-1]\n",
        "\n",
        "  for i in range(1,n+1):\n",
        "    new_txt += ('_'*(n-i)) + ('#'*(i)) +  \"\\n\"\n",
        "  return new_txt[:-1]\n",
        "\n",
        "staircase(-8)"
      ],
      "execution_count": null,
      "outputs": [
        {
          "output_type": "execute_result",
          "data": {
            "application/vnd.google.colaboratory.intrinsic+json": {
              "type": "string"
            },
            "text/plain": [
              "'\\n'"
            ]
          },
          "metadata": {
            "tags": []
          },
          "execution_count": 449
        }
      ]
    },
    {
      "cell_type": "code",
      "metadata": {
        "id": "U8LxJpLyN587"
      },
      "source": [
        "import numpy as np\n",
        "def tic_tac_toe(board):\n",
        "  # https://edabit.com/challenge/A8gEGRXqMwRWQJvBf\n",
        "  board = np.array(board)\n",
        "  my_dict = {\"E\": 0, \"X\": 1, \"O\":-1}\n",
        "  board = np.vectorize(my_dict.get)(board)\n",
        "  \n",
        "  for i in range(3):\n",
        "    if (sum(board[i]) == 3) or (sum(board[:, i]) == 3):\n",
        "      return \"X\"\n",
        "    if (sum(board[i]) == -3) or (sum(board[:, i]) == -3):\n",
        "      return \"O\"\n",
        "  \n",
        "  if (sum(board.diagonal()) == 3) or (sum(np.fliplr(board).diagonal()) == 3):\n",
        "    return \"X\"\n",
        "  if (sum(board.diagonal()) == -3) or (sum(np.fliplr(board).diagonal()) == -3):\n",
        "    return \"O\"\n",
        "  return \"Draw\"  \n"
      ],
      "execution_count": null,
      "outputs": []
    },
    {
      "cell_type": "code",
      "metadata": {
        "id": "jF08ij1k_F0Z",
        "outputId": "464fb7d9-d071-4798-8438-40840d012ddc",
        "colab": {
          "base_uri": "https://localhost:8080/",
          "height": 34
        }
      },
      "source": [
        "import numpy as np\n",
        "def freed_prisoners(prison):\n",
        "  # https://edabit.com/challenge/SHdu4GwBQehhDm4xT\n",
        "  prison = np.array(prison)\n",
        "  diff = prison - (prison ^ 1)\n",
        "\n",
        "  if diff[0] != 1:\n",
        "    return 0\n",
        "  \n",
        "  n = 1\n",
        "  for cells_2 in zip(diff[:-1], diff[1:]):\n",
        "    if cells_2[0] != cells_2[1]:\n",
        "      n += 1\n",
        "  return n\n",
        "  \n",
        "freed_prisoners([1, 0, 1, 0, 1, 0])"
      ],
      "execution_count": null,
      "outputs": [
        {
          "output_type": "execute_result",
          "data": {
            "text/plain": [
              "6"
            ]
          },
          "metadata": {
            "tags": []
          },
          "execution_count": 375
        }
      ]
    },
    {
      "cell_type": "code",
      "metadata": {
        "id": "WcgSYqS6xqJz",
        "outputId": "917272a1-bc55-48aa-d1b7-f7b52e881e88",
        "colab": {
          "base_uri": "https://localhost:8080/",
          "height": 34
        }
      },
      "source": [
        "def split(txt):\n",
        "  # https://edabit.com/challenge/Fpymv2HieqEd7ptAq\n",
        "  if not txt :\n",
        "    return []\n",
        "\n",
        "  o = 0\n",
        "  new_txt = []\n",
        "  for p in (txt):\n",
        "    new_txt += p \n",
        "\n",
        "    if p == \"(\":\n",
        "      o += 1\n",
        "    elif p == \")\":\n",
        "      o -= 1\n",
        "    \n",
        "    if o == 0:\n",
        "      new_txt += \",\"\n",
        "\n",
        "  return \"\".join(new_txt[:-1]).split(\",\")\n"
      ],
      "execution_count": null,
      "outputs": [
        {
          "output_type": "execute_result",
          "data": {
            "text/plain": [
              "[]"
            ]
          },
          "metadata": {
            "tags": []
          },
          "execution_count": 263
        }
      ]
    },
    {
      "cell_type": "code",
      "metadata": {
        "id": "ILNtMKCAnrF-",
        "outputId": "09f36978-ae79-4234-d45e-e252204eb1dc",
        "colab": {
          "base_uri": "https://localhost:8080/",
          "height": 35
        }
      },
      "source": [
        "def special_reverse_string(txt):\n",
        "  # https://edabit.com/challenge/hZ4HzhboCJ5dDiNve\n",
        "  rev_var = txt[::-1].replace(\" \", \"\")\n",
        "  new_txt = []\n",
        "  n = 0\n",
        "\n",
        "  for char in txt:\n",
        "    if char == \" \":\n",
        "      new_txt += char\n",
        "    else:\n",
        "      if char.isupper():\n",
        "        new_txt += rev_var[n].upper()\n",
        "      else:\n",
        "        new_txt += rev_var[n].lower()\n",
        "      n += 1\n",
        "  return \"\".join(new_txt)\n",
        "      \n",
        "\n",
        "special_reverse_string(\"UPPER lower\")\n"
      ],
      "execution_count": null,
      "outputs": [
        {
          "output_type": "execute_result",
          "data": {
            "application/vnd.google.colaboratory.intrinsic+json": {
              "type": "string"
            },
            "text/plain": [
              "'REWOL reppu'"
            ]
          },
          "metadata": {
            "tags": []
          },
          "execution_count": 157
        }
      ]
    },
    {
      "cell_type": "code",
      "metadata": {
        "id": "JOsDaLC-FdLj",
        "outputId": "14bc5879-110a-4b0a-9eb8-548ee8217cdc",
        "colab": {
          "base_uri": "https://localhost:8080/",
          "height": 34
        }
      },
      "source": [
        "import math\n",
        "def only_5_and_3(n):\n",
        "  # https://edabit.com/challenge/5ZDz5nDDPdfg5BH8K\n",
        "  i = 1\n",
        "  if n % 5 == 0:\n",
        "    return True\n",
        "  while n - math.pow(3, i) > 0:\n",
        "    if (n - math.pow(3, i)) % 5 == 0.0:\n",
        "      return True\n",
        "    i += 1\n",
        "  return False\n",
        "\n",
        "only_5_and_3(6)"
      ],
      "execution_count": null,
      "outputs": [
        {
          "output_type": "execute_result",
          "data": {
            "text/plain": [
              "False"
            ]
          },
          "metadata": {
            "tags": []
          },
          "execution_count": 90
        }
      ]
    },
    {
      "cell_type": "code",
      "metadata": {
        "id": "ExI8mJZcZEth",
        "outputId": "1a74a339-bd5b-4365-8786-811fa2d24a0a",
        "colab": {
          "base_uri": "https://localhost:8080/",
          "height": 35
        }
      },
      "source": [
        "def longest_substring(digits):\n",
        "  # https://edabit.com/challenge/RB6iWFrCd6rXWH3vi\n",
        "  start = max_start = max_end = 0\n",
        "  end = 1\n",
        "\n",
        "  while end < (len(digits)):\n",
        "    if (int(digits[end]) % 2) == (int(digits[end-1]) % 2):\n",
        "      start = end\n",
        "    if (end - start) > (max_end - max_start):\n",
        "      max_end = end\n",
        "      max_start = start\n",
        "    end += 1\n",
        "  return digits[max_start:max_end+1]\n",
        "\n",
        "longest_substring(\"1297639172369712637612379612769371692301236165078246534853\")"
      ],
      "execution_count": null,
      "outputs": [
        {
          "output_type": "execute_result",
          "data": {
            "application/vnd.google.colaboratory.intrinsic+json": {
              "type": "string"
            },
            "text/plain": [
              "'1692301236165078'"
            ]
          },
          "metadata": {
            "tags": []
          },
          "execution_count": 92
        }
      ]
    },
    {
      "cell_type": "code",
      "metadata": {
        "id": "FKBqHREmFcZa"
      },
      "source": [
        "def combinations(*items):\n",
        "\tprod = 1\n",
        "\tfor i in items:\n",
        "\t\tif i > 0:\n",
        "\t\t\tprod *= i\n",
        "\treturn prod"
      ],
      "execution_count": null,
      "outputs": []
    },
    {
      "cell_type": "code",
      "metadata": {
        "id": "VBSbqhyXiy9r",
        "outputId": "190b9c55-faf9-4b1e-f9d7-21c72056b51a",
        "colab": {
          "base_uri": "https://localhost:8080/",
          "height": 34
        }
      },
      "source": [
        "def stupid_addition(a, b):\n",
        "\t# https://edabit.com/challenge/6dnhESWBcTMMF3gsa\n",
        "\tif type(a) != type(b):\n",
        "\t\treturn None\n",
        "\telif type(a) is int:\n",
        "\t\treturn \"\".join([str(a), str(b)])\n",
        "\telse:\n",
        "\t\treturn int(a) + int(b)\n",
        "  \n",
        "stupid_addition(\"1\", \"2\")"
      ],
      "execution_count": null,
      "outputs": [
        {
          "output_type": "execute_result",
          "data": {
            "text/plain": [
              "3"
            ]
          },
          "metadata": {
            "tags": []
          },
          "execution_count": 36
        }
      ]
    },
    {
      "cell_type": "code",
      "metadata": {
        "id": "XsM2QtIbgfD-"
      },
      "source": [
        "def fizz_buzz(num):\n",
        "  out = \"\"\n",
        "  if num % 3 == 0:\n",
        "    out = \"Fizz\"\n",
        "  if num % 5 == 0:\n",
        "    out = out+\"Buzz\"\n",
        "  if out == \"\":\n",
        "    return num\n",
        "  return out\n"
      ],
      "execution_count": null,
      "outputs": []
    },
    {
      "cell_type": "code",
      "metadata": {
        "id": "VlqEejXecay0",
        "outputId": "e99a1531-f95e-4499-e958-df70aab677a6",
        "colab": {
          "base_uri": "https://localhost:8080/",
          "height": 35
        }
      },
      "source": [
        "def encrypt(word):\n",
        "  table = ['a', 'e', 'i', 'u']\n",
        "  word = word[::-1] # Reverse\n",
        "  new_word = []\n",
        "  char_to_idx = {chars: idx for idx, chars in enumerate(table)}\n",
        "  \n",
        "  for char in word:\n",
        "    if char in table:\n",
        "      new_word.append(str(char_to_idx[char]))\n",
        "    elif char == \"o\":\n",
        "      new_word.append(\"2\")\n",
        "    else:\n",
        "      new_word.append(char)\n",
        "  \n",
        "  new_word.append(\"aca\")\n",
        "  return \"\".join(new_word)\n",
        "\n",
        "def encrypt1(word):\n",
        "\treturn word[::-1].translate(str.maketrans('aeou', '0123')) + 'aca'\n"
      ],
      "execution_count": null,
      "outputs": [
        {
          "output_type": "execute_result",
          "data": {
            "application/vnd.google.colaboratory.intrinsic+json": {
              "type": "string"
            },
            "text/plain": [
              "'0n0n0baca'"
            ]
          },
          "metadata": {
            "tags": []
          },
          "execution_count": 16
        }
      ]
    },
    {
      "cell_type": "code",
      "metadata": {
        "id": "nLB2OXjIU1FM"
      },
      "source": [
        "def who_goes_free(n, k):\n",
        "  prisoners = list(range(n))\n",
        "\n",
        "  m = 0\n",
        "  while len(prisoners) > 1:\n",
        "    #print(prisoners)\n",
        "    m = ((k + m) - 1) % len(prisoners)\n",
        "    prisoners.pop(m)\n",
        "  return prisoners[0]"
      ],
      "execution_count": null,
      "outputs": []
    },
    {
      "cell_type": "code",
      "metadata": {
        "id": "iB12OLirFJdg"
      },
      "source": [
        "import numpy as np\n",
        "def climb(stamina, obstacles):\n",
        "  # https://edabit.com/challenge/Q7oecYfjkq7tHwPoA\n",
        "  obs_len = len(obstacles)\n",
        "  n = 1\n",
        "  while True:\n",
        "    stam_used = compute_stamina_used(obstacles[n-1], obstacles[n])\n",
        "    stamina = stamina - stam_used\n",
        "    if stamina < 0:\n",
        "      break\n",
        "    else:\n",
        "      n = n + 1\n",
        "    if n >= obs_len:\n",
        "      break\n",
        "  return n-1\n",
        "\n",
        "def compute_stamina_used(current, next):\n",
        "  change = next - current\n",
        "  if change > 0: # Goes up\n",
        "    stam_used = np.ceil(change)*2\n",
        "  else:\n",
        "    stam_used = np.abs(np.floor(change))\n",
        "  return stam_used"
      ],
      "execution_count": null,
      "outputs": []
    },
    {
      "cell_type": "code",
      "metadata": {
        "id": "aJAd3PK0U-hm"
      },
      "source": [
        "import numpy as np\n",
        "def clean_up(files, sort):\n",
        "  # https://edabit.com/challenge/NC888jKPkquSDqaaH\n",
        "  key = 0\n",
        "  if sort == \"suffix\": \n",
        "    key = 1\n",
        "\n",
        "  sorting_list = []\n",
        "  # Create prefix or suffix list to sort by\n",
        "  for project in files:\n",
        "    sorting_info = project.split(\".\")[key]\n",
        "    if sorting_info not in sorting_list:\n",
        "      sorting_list.append(sorting_info)\n",
        "\n",
        "  cleaned_list = [[] for i in range(len(sorting_list))]\n",
        "  #print(sorting_list)\n",
        "\n",
        "  # Sort into the list\n",
        "  for n, keyword in enumerate(sorting_list):\n",
        "    for project in files:\n",
        "      sorting_info = project.split(\".\")[key]\n",
        "      if keyword == sorting_info:\n",
        "        cleaned_list[n].append(project)\n",
        "  return cleaned_list"
      ],
      "execution_count": null,
      "outputs": []
    },
    {
      "cell_type": "code",
      "metadata": {
        "id": "7-6QGk-hPcjT"
      },
      "source": [
        "import numpy as np\n",
        "from numpy.core._exceptions import _UFuncNoLoopError\n",
        "def id_mtrx(n):\n",
        "  # https://edabit.com/challenge/QN4RMpAnktNvMCWwg\n",
        "  try:\n",
        "    mat = np.identity(np.abs(n))\n",
        "    if n < 0:\n",
        "      mat = np.fliplr(mat)\n",
        "    if n == 0:\n",
        "      mat = []\n",
        "    return mat.astype(np.int)\n",
        "  except (NameError, _UFuncNoLoopError):\n",
        "    return \"Error\"\n",
        "  "
      ],
      "execution_count": null,
      "outputs": []
    },
    {
      "cell_type": "code",
      "metadata": {
        "id": "nFi_0BKvIWkO"
      },
      "source": [
        "import numpy as np\n",
        "def check_unique(arr):\n",
        "  arr_len = arr.shape[0]\n",
        "  unique_arr_len = np.unique(arr).shape[0]\n",
        "  if arr_len == unique_arr_len:\n",
        "    return True\n",
        "  else:\n",
        "    return False\n",
        "\n",
        "def can_see_stage(seats):\n",
        "  # https://edabit.com/challenge/xbjDMxzpFcsAWKp97\n",
        "  seats = np.array(seats)\n",
        "  for column in range(seats.shape[1]):\n",
        "    flag1 = (seats[:, column] == sorted(seats[:, column])).all()\n",
        "    flag2 = check_unique(seats[:, column])\n",
        "    \n",
        "    flag = flag1 and flag2\n",
        "    if flag == False:\n",
        "      break\n",
        "  return flag"
      ],
      "execution_count": null,
      "outputs": []
    },
    {
      "cell_type": "code",
      "metadata": {
        "id": "PkdhsMoJGXd-"
      },
      "source": [
        "def find_bob(names):\n",
        "  # https://edabit.com/challenge/fDkAuAwR4PMWZwBKs\n",
        "  names = [x.lower() for x in names]\n",
        "  try:\n",
        "    id = names.index(\"bob\")\n",
        "  except ValueError:\n",
        "    id = -1\n",
        "  return id\n"
      ],
      "execution_count": null,
      "outputs": []
    },
    {
      "cell_type": "code",
      "metadata": {
        "id": "kX54ymej75mC"
      },
      "source": [
        "def atbash(txt):\n",
        "  # https://edabit.com/challenge/MGALfBAXhXqqdFyqo\n",
        "  alphabet = [' ', 'a','b','c','d','e','f','g','h','i','j',\n",
        "            'k','l','m','n','o','p','q','r','s','t',\n",
        "            'u','v','w','x','y','z']\n",
        "  char_to_idx = {chars: idx for idx, chars in enumerate(alphabet)}\n",
        "  \n",
        "  new_txt = []\n",
        "  for current_char in txt:\n",
        "    try:\n",
        "      up_flag = current_char.isupper()\n",
        "\n",
        "      if up_flag:\n",
        "        current_char = current_char.lower()\n",
        "\n",
        "      id = char_to_idx[current_char]\n",
        "      new_char = alphabet[-id]\n",
        "\n",
        "      if up_flag:\n",
        "        new_char = new_char.upper()\n",
        "\n",
        "      new_txt.append(new_char)\n",
        "    except KeyError:\n",
        "      new_txt.append(current_char)\n",
        "  return \"\".join(new_txt)\n"
      ],
      "execution_count": null,
      "outputs": []
    },
    {
      "cell_type": "code",
      "metadata": {
        "id": "OJ-Ibw7QGQ6T"
      },
      "source": [
        ""
      ],
      "execution_count": null,
      "outputs": []
    }
  ]
}